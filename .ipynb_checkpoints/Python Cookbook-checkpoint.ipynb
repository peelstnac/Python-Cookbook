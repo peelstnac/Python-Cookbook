{
 "cells": [
  {
   "cell_type": "markdown",
   "metadata": {},
   "source": [
    "# Python Cookbook\n",
    "Below I list common Python code snippits. This cookbook is neither comprehensive nor guarenteed to be 100% accurate."
   ]
  },
  {
   "cell_type": "markdown",
   "metadata": {},
   "source": [
    "# Built-in data structures\n",
    "A quick primer on built-ins is presented."
   ]
  },
  {
   "cell_type": "code",
   "execution_count": 80,
   "metadata": {},
   "outputs": [
    {
     "name": "stdout",
     "output_type": "stream",
     "text": [
      "Lists -------- \n",
      "index 0 value 1\n",
      "index 1 value 2\n",
      "index 2 value 3\n",
      "1 4\n",
      "2 5\n",
      "popped element 3\n",
      "Deque -------- \n",
      "popped element 4\n",
      "popped element 0\n",
      "Set -------- \n",
      "{1, 2, 3, 5, 6} set() {1, 2, 3, 5, 6}\n",
      "Dicts -------- \n",
      "[1, 2, 3]\n",
      "1\n",
      "{1: 'Hello', 3: 'world'}\n"
     ]
    }
   ],
   "source": [
    "# Built-in data structures\n",
    "print('Lists -------- ')\n",
    "\n",
    "# Lists\n",
    "a = [1, 2, 3] # O(n)\n",
    "for i, v in enumerate(a): # Get index and value\n",
    "    print('index', i, 'value', v)\n",
    "\n",
    "b = [4, 5]\n",
    "for x, y in zip(a, b): # Enumerate over multiple iterables\n",
    "    print(x, y)\n",
    "\n",
    "# Append O(1)\n",
    "a.append(4)\n",
    "a[len(a):] = [5]\n",
    "\n",
    "# Extend O(n)\n",
    "b = list({1, 2, 3})\n",
    "a.extend(b)\n",
    "\n",
    "# Insert O(n)\n",
    "a.insert(0, 100)\n",
    "\n",
    "# Remove (value) O(n)\n",
    "a.append(400)\n",
    "a.remove(400) # ValueError if not match\n",
    "\n",
    "# Pop O(1)\n",
    "print('popped element', a.pop())\n",
    "\n",
    "# Delete some index O(n)\n",
    "del a[0]\n",
    "\n",
    "# Sorting O(nlogn)\n",
    "a.sort(key=lambda x: x)\n",
    "\n",
    "# Reversing O(n)\n",
    "a.reverse()\n",
    "list(reversed(a))\n",
    "\n",
    "print('Deque -------- ')\n",
    "\n",
    "# Deques\n",
    "from collections import deque\n",
    "a = deque([1, 2, 3]) # O(n)\n",
    "a.appendleft(0) # O(1)\n",
    "a.append(4) # O(1)\n",
    "print('popped element', a.pop()) # O(1)\n",
    "print('popped element', a.popleft()) # O(1)\n",
    "\n",
    "print('Set -------- ') # Average case linear for all operations, access avg O(1) because hash\n",
    "a = {1, 2, 3}\n",
    "b = {1, 5, 6}\n",
    "a.discard(0)\n",
    "a.add(1)\n",
    "a.remove(1) # Raises ValueError if not present\n",
    "\n",
    "# Common set operations\n",
    "print(a | b, a & b, a ^ b)\n",
    "\n",
    "print('Dicts -------- ')\n",
    "\n",
    "# Dicts\n",
    "# Non-hashable values (as in mutable types) may not be used as keys\n",
    "a = {1: 'Hello', 2: ' ', 3: 'world'}\n",
    "print(list(a)) # O(n) to get all keys\n",
    "\n",
    "# Key iterator\n",
    "it = iter(a.keys())\n",
    "print(next(it))\n",
    "\n",
    "# Popping items\n",
    "a.pop(2) # Raising KeyError if no key present\n",
    "print(a)"
   ]
  },
  {
   "cell_type": "markdown",
   "metadata": {},
   "source": [
    "Many data types have common functions that you can call. We list some of them below."
   ]
  },
  {
   "cell_type": "code",
   "execution_count": 65,
   "metadata": {},
   "outputs": [
    {
     "name": "stdout",
     "output_type": "stream",
     "text": [
      "True\n",
      "[1, 2, 3, 1, 2, 3]\n",
      "[1, 3]\n",
      "3 1\n",
      "1\n",
      "[]\n"
     ]
    }
   ],
   "source": [
    "# Sequence data types (list, range, tuple, string, ...) have common operations\n",
    "a = [1, 2, 3]\n",
    "\n",
    "# Exist\n",
    "print(1 in a)\n",
    "\n",
    "# Multiply\n",
    "print(a * 2)\n",
    "\n",
    "# Slice\n",
    "print(a[0::2]) # [i:j:k], where k is the step\n",
    "\n",
    "# Extrema\n",
    "print(max(a), min(a))\n",
    "\n",
    "# Search and count\n",
    "print(a.count(1))\n",
    "\n",
    "# Clearing\n",
    "a.clear()\n",
    "print(a)"
   ]
  },
  {
   "cell_type": "code",
   "execution_count": 93,
   "metadata": {},
   "outputs": [
    {
     "data": {
      "text/plain": [
       "[0, 1, 2, 3, 4]"
      ]
     },
     "execution_count": 93,
     "metadata": {},
     "output_type": "execute_result"
    }
   ],
   "source": [
    "list(range(0, 5))"
   ]
  },
  {
   "cell_type": "markdown",
   "metadata": {},
   "source": [
    "# Modules\n",
    "Every .py file is a module, where you can import. The ```___name___``` global variable is defined on each imported module, which is the name of the python file. On the running file, ```___name___ = '___main___'```."
   ]
  },
  {
   "cell_type": "code",
   "execution_count": 88,
   "metadata": {},
   "outputs": [
    {
     "name": "stdout",
     "output_type": "stream",
     "text": [
      "0.0\n",
      "0.0\n",
      "3.14\n",
      "__main__\n",
      "math\n"
     ]
    }
   ],
   "source": [
    "# Importing\n",
    "import math\n",
    "print(math.sin(0))\n",
    "from math import sin\n",
    "print(sin(0))\n",
    "from math import * # This imports all except definitions beginning with _\n",
    "print(round(pi, 2))\n",
    "\n",
    "# Naming\n",
    "print(__name__)\n",
    "print(math.__name__)"
   ]
  },
  {
   "cell_type": "markdown",
   "metadata": {},
   "source": [
    "### Runnable Modules\n",
    "Can use the ```___name___``` variable to make some modules runnable.\n",
    "```bash\n",
    "python -m module_name [args]\n",
    "```"
   ]
  },
  {
   "cell_type": "code",
   "execution_count": 89,
   "metadata": {},
   "outputs": [
    {
     "name": "stdout",
     "output_type": "stream",
     "text": [
      "-fC:\\Users\\Freem\\AppData\\Roaming\\jupyter\\runtime\\kernel-7fa7bf58-a418-4e19-bbc4-229dd6d3d47a.json\n"
     ]
    }
   ],
   "source": [
    "def some_function(x: int, y: int) -> int:\n",
    "    return x + y\n",
    "if __name__ == '__main__':\n",
    "    import sys\n",
    "    print(some_function(sys.argv[1], sys.argv[2]))"
   ]
  },
  {
   "cell_type": "markdown",
   "metadata": {},
   "source": [
    "### Search Path\n",
    "As per Python documentation, there are three areas where search occurs:\n",
    "* Built-in modules\n",
    "* Directory of import | current directory if first is not valid (folders within do not count)\n",
    "* PATH (ie. pip installs)\n",
    "\n",
    "To optimize, modules are compiled in folder ```__pycache__/```.\n",
    "\n",
    "Call ```dir()``` to get all defined names."
   ]
  },
  {
   "cell_type": "code",
   "execution_count": 92,
   "metadata": {},
   "outputs": [
    {
     "name": "stdout",
     "output_type": "stream",
     "text": [
      "['__doc__', '__loader__', '__name__', '__package__', '__spec__']\n"
     ]
    }
   ],
   "source": [
    "import math\n",
    "print(dir(math)[0:5])"
   ]
  },
  {
   "cell_type": "markdown",
   "metadata": {},
   "source": [
    "### Packages\n",
    "Packages are folders containing subpackages or submodules. All packages must contain an ```___init___.py``` file to distinguish packages from module names. The ```__init___.py``` file is run when a package is imported. It can, for example, specify which names are to be exposed when a user imports ```*``` from the package."
   ]
  },
  {
   "cell_type": "code",
   "execution_count": 94,
   "metadata": {},
   "outputs": [],
   "source": [
    "# In __init__.py\n",
    "__all__ = ['module_1', 'module_2']"
   ]
  },
  {
   "cell_type": "markdown",
   "metadata": {},
   "source": [
    "# I/O\n",
    "\n",
    "### String Formatting"
   ]
  },
  {
   "cell_type": "code",
   "execution_count": 109,
   "metadata": {},
   "outputs": [
    {
     "name": "stdout",
     "output_type": "stream",
     "text": [
      "a is 1.\n"
     ]
    }
   ],
   "source": [
    "a = 1\n",
    "print(f'a is {a}.')"
   ]
  },
  {
   "cell_type": "code",
   "execution_count": 110,
   "metadata": {},
   "outputs": [
    {
     "name": "stdout",
     "output_type": "stream",
     "text": [
      "a is 1.\n",
      "3.14\n"
     ]
    }
   ],
   "source": [
    "print('a is {0}.'.format(a))\n",
    "import math\n",
    "print('{0}'.format(round(math.pi, 2)))"
   ]
  },
  {
   "cell_type": "code",
   "execution_count": 158,
   "metadata": {},
   "outputs": [
    {
     "name": "stdout",
     "output_type": "stream",
     "text": [
      "3.14\n",
      "3.14  6chars left of 6\n"
     ]
    }
   ],
   "source": [
    "a = '%.2f' % 3.1415\n",
    "print(a)\n",
    "a = '%-6.2f6chars left of 6' % 3.1415\n",
    "print(a)"
   ]
  },
  {
   "cell_type": "code",
   "execution_count": 118,
   "metadata": {},
   "outputs": [
    {
     "name": "stdout",
     "output_type": "stream",
     "text": [
      "\\\\ \\\n"
     ]
    }
   ],
   "source": [
    "print(r'\\\\', '\\\\')"
   ]
  },
  {
   "cell_type": "code",
   "execution_count": 167,
   "metadata": {},
   "outputs": [
    {
     "name": "stdout",
     "output_type": "stream",
     "text": [
      "72\n",
      "dello, world!\n",
      "F\n"
     ]
    }
   ],
   "source": [
    "print(bytearray(b'Hello, world!')[0])\n",
    "a = bytearray(b'Hello, world!')\n",
    "a[0] = 100\n",
    "print(a.decode('utf8'))\n",
    "# Converting the C way\n",
    "print('%X' % 15)"
   ]
  },
  {
   "cell_type": "markdown",
   "metadata": {},
   "source": [
    "### Files\n",
    "Very similar to C file I/O. Like in C, don't use readline() or read() unless specifying max number of bytes!"
   ]
  },
  {
   "cell_type": "code",
   "execution_count": 199,
   "metadata": {},
   "outputs": [],
   "source": [
    "fp = open('test_file.txt', 'w+') # Same convention as C\n",
    "fp.write('Hello\\nWorld!')\n",
    "fp.close()"
   ]
  },
  {
   "cell_type": "code",
   "execution_count": 200,
   "metadata": {},
   "outputs": [
    {
     "name": "stdout",
     "output_type": "stream",
     "text": [
      "Hello\n",
      "\n",
      "W\n",
      "orld\n",
      "True\n",
      "True\n",
      "Hello\n",
      "\n",
      "World!\n",
      "['Hello\\n', 'World!']\n"
     ]
    }
   ],
   "source": [
    "with open('test_file.txt', 'r+') as fp:\n",
    "    print(fp.readline()) # Read line\n",
    "    print(fp.read(1)) # Read 1 byte\n",
    "    print(fp.read(4)) # Read 4 bytes\n",
    "    print(fp.read(100) == '!') # EOF\n",
    "    print(fp.readline() == '') # EOF\n",
    "with open('test_file.txt', 'r+') as fp:\n",
    "    for lines in fp:\n",
    "        print(lines)\n",
    "with open('test_file.txt', 'r+') as fp:\n",
    "    print(fp.readlines())"
   ]
  },
  {
   "cell_type": "code",
   "execution_count": 218,
   "metadata": {},
   "outputs": [
    {
     "name": "stdout",
     "output_type": "stream",
     "text": [
      "29\n",
      "30\n",
      "['B line here\\n', 'Another line here']\n",
      "['B line here\\n', 'Another line here APPENDING']\n"
     ]
    }
   ],
   "source": [
    "with open('test_file.txt', 'w+') as fp: # Overwrites the previous file\n",
    "    print(fp.write('A line here\\nAnother line here')) # Bytes written\n",
    "    print(fp.tell()) # File pointer shifts to EOF\n",
    "    fp.seek(0) # Move the file pointer\n",
    "    fp.write('B') # Overwrites byte 0\n",
    "    fp.seek(0)\n",
    "    print(fp.readlines())\n",
    "with open('test_file.txt', 'r+') as fp: # Doesn't overwrite\n",
    "    fp.seek(0, 2) # 2 for EOF\n",
    "    fp.write(' APPENDING')\n",
    "    fp.seek(0)\n",
    "    print(fp.readlines())"
   ]
  },
  {
   "cell_type": "markdown",
   "metadata": {},
   "source": [
    "For JSON files, we can use \n",
    "```python\n",
    "import json\n",
    "json.dumps([1, 2, 3])\n",
    ">>> '[1, 2, 3'\n",
    "# fp is some file pointer\n",
    "json.dump([1, 2, 3], fp)\n",
    "json.load(fp)\n",
    ">>> [1, 2, 3]\n",
    "```"
   ]
  },
  {
   "cell_type": "markdown",
   "metadata": {},
   "source": [
    "# Decorators\n",
    "Decorators are basically shortcuts for function wrappers. Consider the function below."
   ]
  },
  {
   "cell_type": "code",
   "execution_count": null,
   "metadata": {},
   "outputs": [],
   "source": [
    "def do_something():\n",
    "    print('This is something, apparently')\n",
    "def wrapper(func):\n",
    "    "
   ]
  },
  {
   "cell_type": "markdown",
   "metadata": {},
   "source": [
    "# Error Handling\n",
    "Very important. Imagine you have a database connection, but some error causes program to stop. That connection still persists, eating away system resources. There are two types of errors.\n",
    "1. SyntaxError is raised upon parsing the code.\n",
    "2. Exceptions are raised when an error occurs during execution."
   ]
  },
  {
   "cell_type": "code",
   "execution_count": 2,
   "metadata": {},
   "outputs": [
    {
     "name": "stdout",
     "output_type": "stream",
     "text": [
      "Cannot divide by 0\n",
      "This is always outputted\n"
     ]
    }
   ],
   "source": [
    "try:\n",
    "    a = 1 / 0\n",
    "except ZeroDivisionError:\n",
    "    print('Cannot divide by 0')\n",
    "else:\n",
    "    print(a)\n",
    "finally:\n",
    "    print('This is always outputted')"
   ]
  },
  {
   "cell_type": "markdown",
   "metadata": {},
   "source": [
    "# Scope, Closure, Classes (Including Iterators/Generators)\n",
    "Names of objects hold a pointer to the object. Everything short of immutable literals are aliased.\n",
    "* A namespace is a mapping of names to objects. They exist to prevent collision. For example, the namespaces of two different modules must be different.\n",
    "* Scope is the namespaces accessable from a place. The searching procedure goes outwards, ie.\n",
    "    1. Search the innermost namespace.\n",
    "    2. If not found, search one layer outer.\n",
    "    3. Second last layer is global variables.\n",
    "    4. Last layer is the namespace of built-ins.\n",
    "    5. Raise some sort of error if not found.\n",
    "* Note that namespace of a function is where it was initially defined (static). Below is example of function closure. In theory, when f() finishes executing, it is taken off the call stack. However, a = g still has access to the namespace of f."
   ]
  },
  {
   "cell_type": "code",
   "execution_count": 220,
   "metadata": {},
   "outputs": [
    {
     "name": "stdout",
     "output_type": "stream",
     "text": [
      "2\n"
     ]
    }
   ],
   "source": [
    "# Consider the following\n",
    "def f():\n",
    "    a = 2\n",
    "    def g():\n",
    "        return a\n",
    "    return g\n",
    "\n",
    "a = f()\n",
    "print(a()) "
   ]
  },
  {
   "cell_type": "markdown",
   "metadata": {},
   "source": [
    "Because functions have access to its own namespace, and that scope searches start from the innermost namespace, there are explicit ways to make some inner scope have access to the outer scope."
   ]
  },
  {
   "cell_type": "code",
   "execution_count": 228,
   "metadata": {},
   "outputs": [
    {
     "name": "stdout",
     "output_type": "stream",
     "text": [
      "10\n",
      "5\n",
      "Inside function 8\n",
      "5\n"
     ]
    }
   ],
   "source": [
    "a = 10\n",
    "def local_assignment():\n",
    "    a = 5\n",
    "local_assignment()\n",
    "print(a)\n",
    "def global_assignment():\n",
    "    global a\n",
    "    a = 5\n",
    "global_assignment()\n",
    "print(a)\n",
    "def middle_ground():\n",
    "    a = 7\n",
    "    def testing():\n",
    "        nonlocal a\n",
    "        a = 8\n",
    "    testing()\n",
    "    print('Inside function', a)\n",
    "middle_ground()\n",
    "print(a)"
   ]
  },
  {
   "cell_type": "code",
   "execution_count": 235,
   "metadata": {},
   "outputs": [
    {
     "name": "stdout",
     "output_type": "stream",
     "text": [
      "3\n",
      "3\n"
     ]
    }
   ],
   "source": [
    "class MyClass:\n",
    "    def __init__(self, a, b): # self to reference the instance instead of the class\n",
    "        # Everything outside here is shared across instances\n",
    "        self.a = a\n",
    "        self.b = b\n",
    "    def add(self):\n",
    "        print(self.a + self.b)\n",
    "a = MyClass(1, 2)\n",
    "a.add() # Instance object is passed as the self parameter\n",
    "# Same as...\n",
    "MyClass.add(a)\n",
    "# So in essence, self can be named anything, but it's a strong convention to name it self"
   ]
  },
  {
   "cell_type": "code",
   "execution_count": 237,
   "metadata": {},
   "outputs": [
    {
     "name": "stdout",
     "output_type": "stream",
     "text": [
      "0\n",
      "1\n",
      "2\n",
      "3\n",
      "4\n",
      "5\n",
      "6\n",
      "7\n",
      "8\n",
      "9\n"
     ]
    }
   ],
   "source": [
    "def my_generator():\n",
    "    for i in range(0, 10):\n",
    "        yield i\n",
    "it = my_generator()\n",
    "for i in range(0, 10):\n",
    "    print(next(it))"
   ]
  },
  {
   "cell_type": "code",
   "execution_count": 240,
   "metadata": {},
   "outputs": [
    {
     "name": "stdout",
     "output_type": "stream",
     "text": [
      "1\n",
      "1\n",
      "2\n",
      "3\n",
      "5\n"
     ]
    }
   ],
   "source": [
    "class MyIterator:\n",
    "    def __init__(self, a, b):\n",
    "        self.a = a\n",
    "        self.b = b\n",
    "    def __iter__(self):\n",
    "        return self\n",
    "    def __next__(self):\n",
    "        t = self.a\n",
    "        self.a = self.b\n",
    "        self.b = t + self.b\n",
    "        return t\n",
    "inst = MyIterator(1, 1)\n",
    "it = iter(inst)\n",
    "for i in range(0, 5):\n",
    "    print(next(it))"
   ]
  },
  {
   "cell_type": "code",
   "execution_count": 242,
   "metadata": {},
   "outputs": [
    {
     "name": "stdout",
     "output_type": "stream",
     "text": [
      "Parent function\n",
      "Child function\n"
     ]
    }
   ],
   "source": [
    "class ParentClass:\n",
    "    def f(self):\n",
    "        print(\"Parent function\")\n",
    "    def g(self):\n",
    "        print(\"Parent function\")\n",
    "class ChildClass(ParentClass):\n",
    "    def g(self):\n",
    "        print(\"Child function\")\n",
    "inst = ChildClass()\n",
    "inst.f()\n",
    "inst.g()"
   ]
  },
  {
   "cell_type": "markdown",
   "metadata": {},
   "source": [
    "This is the end of the cookbook."
   ]
  },
  {
   "cell_type": "code",
   "execution_count": 3,
   "metadata": {},
   "outputs": [
    {
     "name": "stdout",
     "output_type": "stream",
     "text": [
      ":)\n"
     ]
    }
   ],
   "source": [
    "print(':)')"
   ]
  },
  {
   "cell_type": "markdown",
   "metadata": {},
   "source": [
    "~ Freeman"
   ]
  }
 ],
 "metadata": {
  "kernelspec": {
   "display_name": "Python 3",
   "language": "python",
   "name": "python3"
  },
  "language_info": {
   "codemirror_mode": {
    "name": "ipython",
    "version": 3
   },
   "file_extension": ".py",
   "mimetype": "text/x-python",
   "name": "python",
   "nbconvert_exporter": "python",
   "pygments_lexer": "ipython3",
   "version": "3.8.3"
  }
 },
 "nbformat": 4,
 "nbformat_minor": 4
}
